{
 "cells": [
  {
   "cell_type": "markdown",
   "metadata": {},
   "source": [
    "## ADAptive LInear NEuron classifier"
   ]
  },
  {
   "cell_type": "code",
   "execution_count": 3,
   "metadata": {
    "collapsed": false
   },
   "outputs": [],
   "source": [
    "import numpy as np"
   ]
  },
  {
   "cell_type": "code",
   "execution_count": 9,
   "metadata": {
    "collapsed": true
   },
   "outputs": [],
   "source": [
    "class Adaline:\n",
    "    \"\"\"\n",
    "    Adaptive linear neuron classifier model\n",
    "    \n",
    "    Parameters\n",
    "    -----------\n",
    "    eta : float\n",
    "        learning rate from 0.0 to 1.0\n",
    "        \n",
    "    n_iter : int\n",
    "        number of passes to make over the training dataset\n",
    "        \n",
    "    Attributes\n",
    "    ----------\n",
    "    w_ : 1-d array\n",
    "        array of associated weights\n",
    "        \n",
    "    errors_ : list\n",
    "        number of errors on each sequential pass as defined by n_iter\n",
    "    \"\"\"\n",
    "    def __init__(self, eta=.1,n_iter =50):\n",
    "        self.eta=eta\n",
    "        self.n_iter=n_iter\n",
    "        \n",
    "    def fit(self,X,y):\n",
    "        \n",
    "        \"\"\"\n",
    "        Parameters\n",
    "        ----------\n",
    "        X : array-like, shape = [n_samples,n_features]\n",
    "        \n",
    "        y : array-like, shape = [n_samples]\n",
    "        \n",
    "        Returns\n",
    "        --------\n",
    "        self : object\n",
    "                \n",
    "        \"\"\"\n",
    "        self.w_ = np.zeros(1+X.shape[1])\n",
    "        self.cost_ = []\n",
    "        \n",
    "        for i in range(self.n_iter):\n",
    "            # must create an output\n",
    "            output = self.net_input(X)\n",
    "            errors = (y-output)\n",
    "            self.w_[1:] += self.eta * X.T.dot(errors)\n",
    "            self.w_[0] += self.eta * errors.sum()\n",
    "            cost = (errors**2).sum() / 2.0\n",
    "            self.cost_.append(cost)\n",
    "        return self\n",
    "    \n",
    "    def net_input(self,X):\n",
    "        #calculate the net input\n",
    "        return np.dot(X, self.w_[1:]) + self.w_[0]\n",
    "    \n",
    "    def activation(self,X):\n",
    "        # compute linear activation\n",
    "        return self.net_input(X)\n",
    "    \n",
    "    def predict(self,X):\n",
    "        \"\"\"Return class label after unit step\"\"\"\n",
    "        return np.where(self.activation(X) >= 0.0, 1, -1)"
   ]
  },
  {
   "cell_type": "code",
   "execution_count": 5,
   "metadata": {
    "collapsed": false
   },
   "outputs": [],
   "source": [
    "a = np.zeros(6)"
   ]
  },
  {
   "cell_type": "code",
   "execution_count": 7,
   "metadata": {
    "collapsed": false
   },
   "outputs": [
    {
     "data": {
      "text/plain": [
       "(6L,)"
      ]
     },
     "execution_count": 7,
     "metadata": {},
     "output_type": "execute_result"
    }
   ],
   "source": [
    "a.shape"
   ]
  },
  {
   "cell_type": "code",
   "execution_count": null,
   "metadata": {
    "collapsed": true
   },
   "outputs": [],
   "source": []
  }
 ],
 "metadata": {
  "kernelspec": {
   "display_name": "Python 2",
   "language": "python",
   "name": "python2"
  },
  "language_info": {
   "codemirror_mode": {
    "name": "ipython",
    "version": 2
   },
   "file_extension": ".py",
   "mimetype": "text/x-python",
   "name": "python",
   "nbconvert_exporter": "python",
   "pygments_lexer": "ipython2",
   "version": "2.7.11"
  }
 },
 "nbformat": 4,
 "nbformat_minor": 0
}
